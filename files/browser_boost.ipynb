{
 "cells": [
  {
   "cell_type": "markdown",
   "metadata": {},
   "source": [
    "# Gradient Boosting is (pretty much) All You Need\n",
    "\n",
    "Use the power of Gradient Boosted Decision Trees (GBDT) in your browser.\n",
    "\n",
    "Predict:\n",
    "\n",
    "- Whether a person makes $50,000 a year or not\n",
    "- The price of a house in California\n",
    "- What forest cover type is in a geographic zone\n",
    "\n",
    "Sources:\n",
    "\n",
    "- Paper [link](https://arxiv.org/pdf/2110.01889.pdf)\n",
    "- UCI ML [link](https://archive.ics.uci.edu/ml/index.php)\n",
    "  - Adult Names and Covertype Data Sets\n",
    "- California Housing Data Set [link](https://www.dcc.fc.up.pt/~ltorgo/Regression/cal_housing.html)"
   ]
  },
  {
   "cell_type": "code",
   "execution_count": 1,
   "metadata": {},
   "outputs": [
    {
     "data": {
      "text/plain": [
       "\"sklearn.__version__ = '1.0.2', np.__version__ = '1.21.5', pd.__version__ = '1.4.1'\""
      ]
     },
     "execution_count": 1,
     "metadata": {},
     "output_type": "execute_result"
    }
   ],
   "source": [
    "import numpy as np\n",
    "import pandas as pd\n",
    "from sklearn.model_selection import train_test_split\n",
    "from sklearn.ensemble import HistGradientBoostingClassifier, HistGradientBoostingRegressor\n",
    "from sklearn.pipeline import make_pipeline\n",
    "from sklearn.compose import make_column_transformer\n",
    "from sklearn.compose import make_column_selector\n",
    "from sklearn.preprocessing import OrdinalEncoder, LabelEncoder, StandardScaler\n",
    "from sklearn.metrics import accuracy_score, mean_absolute_percentage_error\n",
    "\n",
    "import sklearn\n",
    "\n",
    "f\"{sklearn.__version__ = }, {np.__version__ = }, {pd.__version__ = }\""
   ]
  },
  {
   "cell_type": "markdown",
   "metadata": {},
   "source": [
    "## Predict Adult Income\n",
    "\n",
    "- `age`: continuous.\n",
    "- `workclass`: Private, Self-emp-not-inc, Self-emp-inc, Federal-gov, Local-gov, State-gov, Without-pay, Never-worked.\n",
    "- `fnlwgt`: continuous.\n",
    "- `education`: Bachelors, Some-college, 11th, HS-grad, Prof-school, Assoc-acdm, Assoc-voc, 9th, 7th-8th, 12th, Masters, 1st-4th, 10th, Doctorate, 5th-6th, Preschool.\n",
    "- `education-num`: continuous.\n",
    "- `marital-status`: Married-civ-spouse, Divorced, Never-married, Separated, Widowed, Married-spouse-absent, Married-AF-spouse.\n",
    "- `occupation`: Tech-support, Craft-repair, Other-service, Sales, Exec-managerial, Prof-specialty, Handlers-cleaners, Machine-op-inspct, Adm-clerical, Farming-fishing, Transport-moving, Priv-house-serv, Protective-serv, Armed-Forces.\n",
    "- `relationship`: Wife, Own-child, Husband, Not-in-family, Other-relative, Unmarried.\n",
    "- `race`: White, Asian-Pac-Islander, Amer-Indian-Eskimo, Other, Black.\n",
    "- `sex`: Female, Male.\n",
    "- `capital-gain`: continuous.\n",
    "- `capital-loss`: continuous.\n",
    "- `hours-per-week`: continuous.\n",
    "- `native-country`: United-States, Cambodia, England, Puerto-Rico, Canada, Germany, Outlying-US(Guam-USVI-etc), India, Japan, Greece, South, China, Cuba, Iran, Honduras, Philippines, Italy, Poland, Jamaica, Vietnam, Mexico, Portugal, Ireland, France, Dominican-Republic, Laos, Ecuador, Taiwan, Haiti, Columbia, Hungary, Guatemala, Nicaragua, Scotland, Thailand, Yugoslavia, El-Salvador, Trinadad&Tobago, Peru, Hong, Holand-Netherlands.\n"
   ]
  },
  {
   "cell_type": "code",
   "execution_count": 12,
   "metadata": {},
   "outputs": [
    {
     "data": {
      "text/html": [
       "<div>\n",
       "<style scoped>\n",
       "    .dataframe tbody tr th:only-of-type {\n",
       "        vertical-align: middle;\n",
       "    }\n",
       "\n",
       "    .dataframe tbody tr th {\n",
       "        vertical-align: top;\n",
       "    }\n",
       "\n",
       "    .dataframe thead th {\n",
       "        text-align: right;\n",
       "    }\n",
       "</style>\n",
       "<table border=\"1\" class=\"dataframe\">\n",
       "  <thead>\n",
       "    <tr style=\"text-align: right;\">\n",
       "      <th></th>\n",
       "      <th>workclass</th>\n",
       "      <th>education</th>\n",
       "      <th>marital-status</th>\n",
       "      <th>occupation</th>\n",
       "      <th>relationship</th>\n",
       "      <th>race</th>\n",
       "      <th>sex</th>\n",
       "      <th>native-country</th>\n",
       "      <th>less-than-50k</th>\n",
       "      <th>age</th>\n",
       "      <th>fnlwgt</th>\n",
       "      <th>education-num</th>\n",
       "      <th>capital-gain</th>\n",
       "      <th>capital-loss</th>\n",
       "      <th>hours-per-week</th>\n",
       "    </tr>\n",
       "  </thead>\n",
       "  <tbody>\n",
       "    <tr>\n",
       "      <th>0</th>\n",
       "      <td>State-gov</td>\n",
       "      <td>Bachelors</td>\n",
       "      <td>Never-married</td>\n",
       "      <td>Adm-clerical</td>\n",
       "      <td>Not-in-family</td>\n",
       "      <td>White</td>\n",
       "      <td>Male</td>\n",
       "      <td>United-States</td>\n",
       "      <td>&lt;=50K</td>\n",
       "      <td>39</td>\n",
       "      <td>77516</td>\n",
       "      <td>13</td>\n",
       "      <td>2174</td>\n",
       "      <td>0</td>\n",
       "      <td>40</td>\n",
       "    </tr>\n",
       "    <tr>\n",
       "      <th>1</th>\n",
       "      <td>Self-emp-not-inc</td>\n",
       "      <td>Bachelors</td>\n",
       "      <td>Married-civ-spouse</td>\n",
       "      <td>Exec-managerial</td>\n",
       "      <td>Husband</td>\n",
       "      <td>White</td>\n",
       "      <td>Male</td>\n",
       "      <td>United-States</td>\n",
       "      <td>&lt;=50K</td>\n",
       "      <td>50</td>\n",
       "      <td>83311</td>\n",
       "      <td>13</td>\n",
       "      <td>0</td>\n",
       "      <td>0</td>\n",
       "      <td>13</td>\n",
       "    </tr>\n",
       "    <tr>\n",
       "      <th>2</th>\n",
       "      <td>Private</td>\n",
       "      <td>HS-grad</td>\n",
       "      <td>Divorced</td>\n",
       "      <td>Handlers-cleaners</td>\n",
       "      <td>Not-in-family</td>\n",
       "      <td>White</td>\n",
       "      <td>Male</td>\n",
       "      <td>United-States</td>\n",
       "      <td>&lt;=50K</td>\n",
       "      <td>38</td>\n",
       "      <td>215646</td>\n",
       "      <td>9</td>\n",
       "      <td>0</td>\n",
       "      <td>0</td>\n",
       "      <td>40</td>\n",
       "    </tr>\n",
       "  </tbody>\n",
       "</table>\n",
       "</div>"
      ],
      "text/plain": [
       "           workclass   education       marital-status          occupation  \\\n",
       "0          State-gov   Bachelors        Never-married        Adm-clerical   \n",
       "1   Self-emp-not-inc   Bachelors   Married-civ-spouse     Exec-managerial   \n",
       "2            Private     HS-grad             Divorced   Handlers-cleaners   \n",
       "\n",
       "     relationship    race    sex  native-country less-than-50k  age  fnlwgt  \\\n",
       "0   Not-in-family   White   Male   United-States         <=50K   39   77516   \n",
       "1         Husband   White   Male   United-States         <=50K   50   83311   \n",
       "2   Not-in-family   White   Male   United-States         <=50K   38  215646   \n",
       "\n",
       "   education-num  capital-gain  capital-loss  hours-per-week  \n",
       "0             13          2174             0              40  \n",
       "1             13             0             0              13  \n",
       "2              9             0             0              40  "
      ]
     },
     "execution_count": 12,
     "metadata": {},
     "output_type": "execute_result"
    }
   ],
   "source": [
    "columns = [\n",
    "    \"age\",\n",
    "    \"workclass\",\n",
    "    \"fnlwgt\",\n",
    "    \"education\",\n",
    "    \"education-num\",\n",
    "    \"marital-status\",\n",
    "    \"occupation\",\n",
    "    \"relationship\",\n",
    "    \"race\",\n",
    "    \"sex\",\n",
    "    \"capital-gain\",\n",
    "    \"capital-loss\",\n",
    "    \"hours-per-week\",\n",
    "    \"native-country\",\n",
    "    \"less-than-50k\"\n",
    "]\n",
    "categorical_columns = [\n",
    "    \"workclass\",\n",
    "    \"education\",\n",
    "    \"marital-status\",\n",
    "    \"occupation\",\n",
    "    \"relationship\",\n",
    "    \"race\",\n",
    "    \"sex\",\n",
    "    \"native-country\",\n",
    "    \"less-than-50k\"\n",
    "]\n",
    "continuous_columns = [col for col in columns if col not in categorical_columns]\n",
    "features = [col for col in columns if col != 'less-than-50k']\n",
    "\n",
    "adult_income_train = pd.read_csv(\"data/adult.data\", names=columns)\n",
    "adult_income_train[categorical_columns] = adult_income_train[categorical_columns].astype(\"category\")\n",
    "adult_income_train = adult_income_train[[*categorical_columns, *continuous_columns]]\n",
    "adult_income_test = pd.read_csv(\"data/adult.test\", names=columns)\n",
    "adult_income_test[categorical_columns] = adult_income_train[categorical_columns].astype(\"category\")\n",
    "adult_income_train.iloc[:3]"
   ]
  },
  {
   "cell_type": "code",
   "execution_count": 13,
   "metadata": {},
   "outputs": [
    {
     "name": "stdout",
     "output_type": "stream",
     "text": [
      "<class 'pandas.core.frame.DataFrame'>\n",
      "RangeIndex: 32561 entries, 0 to 32560\n",
      "Data columns (total 14 columns):\n",
      " #   Column          Non-Null Count  Dtype   \n",
      "---  ------          --------------  -----   \n",
      " 0   age             32561 non-null  int64   \n",
      " 1   workclass       32561 non-null  category\n",
      " 2   fnlwgt          32561 non-null  int64   \n",
      " 3   education       32561 non-null  category\n",
      " 4   education-num   32561 non-null  int64   \n",
      " 5   marital-status  32561 non-null  category\n",
      " 6   occupation      32561 non-null  category\n",
      " 7   relationship    32561 non-null  category\n",
      " 8   race            32561 non-null  category\n",
      " 9   sex             32561 non-null  category\n",
      " 10  capital-gain    32561 non-null  int64   \n",
      " 11  capital-loss    32561 non-null  int64   \n",
      " 12  hours-per-week  32561 non-null  int64   \n",
      " 13  native-country  32561 non-null  category\n",
      "dtypes: category(8), int64(6)\n",
      "memory usage: 1.7 MB\n"
     ]
    }
   ],
   "source": [
    "adult_train_features = adult_income_train[features]\n",
    "label_encoder = LabelEncoder()\n",
    "adult_train_labels = label_encoder.fit_transform(adult_income_train['less-than-50k'])\n",
    "adult_train_features.info()"
   ]
  },
  {
   "cell_type": "code",
   "execution_count": 14,
   "metadata": {},
   "outputs": [
    {
     "data": {
      "text/plain": [
       "(       age          workclass  fnlwgt      education  education-num  \\\n",
       " 0       25          State-gov  226802      Bachelors              7   \n",
       " 1       38   Self-emp-not-inc   89814      Bachelors              9   \n",
       " 2       28            Private  336951        HS-grad             12   \n",
       " 3       44            Private  160323           11th             10   \n",
       " 4       18            Private  103497      Bachelors             10   \n",
       " ...    ...                ...     ...            ...            ...   \n",
       " 16276   39            Private  215419        HS-grad             13   \n",
       " 16277   64            Private  321403   Some-college              9   \n",
       " 16278   38            Private  374983      Bachelors             13   \n",
       " 16279   44            Private   83891      Assoc-voc             13   \n",
       " 16280   35            Private  182148        HS-grad             13   \n",
       " \n",
       "             marital-status          occupation    relationship    race  \\\n",
       " 0            Never-married        Adm-clerical   Not-in-family   White   \n",
       " 1       Married-civ-spouse     Exec-managerial         Husband   White   \n",
       " 2                 Divorced   Handlers-cleaners   Not-in-family   White   \n",
       " 3       Married-civ-spouse   Handlers-cleaners         Husband   Black   \n",
       " 4       Married-civ-spouse      Prof-specialty            Wife   Black   \n",
       " ...                    ...                 ...             ...     ...   \n",
       " 16276   Married-civ-spouse   Machine-op-inspct         Husband   White   \n",
       " 16277             Divorced      Prof-specialty   Not-in-family   Black   \n",
       " 16278        Never-married               Sales   Not-in-family   White   \n",
       " 16279        Never-married        Craft-repair       Own-child   White   \n",
       " 16280        Never-married   Handlers-cleaners       Own-child   White   \n",
       " \n",
       "            sex  capital-gain  capital-loss  hours-per-week  native-country  \n",
       " 0         Male             0             0              40   United-States  \n",
       " 1         Male             0             0              50   United-States  \n",
       " 2         Male             0             0              40   United-States  \n",
       " 3         Male          7688             0              40   United-States  \n",
       " 4       Female             0             0              30            Cuba  \n",
       " ...        ...           ...           ...             ...             ...  \n",
       " 16276     Male             0             0              36   United-States  \n",
       " 16277     Male             0             0              40         Germany  \n",
       " 16278   Female             0             0              50   United-States  \n",
       " 16279     Male          5455             0              40   United-States  \n",
       " 16280     Male             0             0              60   United-States  \n",
       " \n",
       " [16281 rows x 14 columns],\n",
       " array([0, 0, 0, ..., 0, 0, 0]))"
      ]
     },
     "execution_count": 14,
     "metadata": {},
     "output_type": "execute_result"
    }
   ],
   "source": [
    "adult_test_features = adult_income_test[features]\n",
    "adult_test_labels = label_encoder.transform(adult_income_test['less-than-50k'])\n",
    "adult_test_features, adult_test_labels"
   ]
  },
  {
   "cell_type": "code",
   "execution_count": 15,
   "metadata": {},
   "outputs": [
    {
     "data": {
      "text/plain": [
       "Pipeline(steps=[('columntransformer',\n",
       "                 ColumnTransformer(remainder='passthrough',\n",
       "                                   transformers=[('ordinalencoder',\n",
       "                                                  OrdinalEncoder(handle_unknown='use_encoded_value',\n",
       "                                                                 unknown_value=nan),\n",
       "                                                  <sklearn.compose._column_transformer.make_column_selector object at 0x157bd5b50>)])),\n",
       "                ('histgradientboostingclassifier',\n",
       "                 HistGradientBoostingClassifier(categorical_features=[True,\n",
       "                                                                      True,\n",
       "                                                                      True,\n",
       "                                                                      True,\n",
       "                                                                      True,\n",
       "                                                                      True,\n",
       "                                                                      True,\n",
       "                                                                      True,\n",
       "                                                                      False,\n",
       "                                                                      False,\n",
       "                                                                      False,\n",
       "                                                                      False,\n",
       "                                                                      False,\n",
       "                                                                      False],\n",
       "                                                random_state=47))])"
      ]
     },
     "execution_count": 15,
     "metadata": {},
     "output_type": "execute_result"
    }
   ],
   "source": [
    "categorical_mask = [True] * (len(categorical_columns) - 1) + [False] * len(continuous_columns)\n",
    "ordinal_encoder = make_column_transformer(\n",
    "    (\n",
    "        OrdinalEncoder(handle_unknown=\"use_encoded_value\", unknown_value=np.nan),\n",
    "        make_column_selector(dtype_include=\"category\"),\n",
    "    ),\n",
    "    remainder=\"passthrough\",\n",
    ")\n",
    "model = make_pipeline(ordinal_encoder, HistGradientBoostingClassifier(random_state=47, categorical_features=categorical_mask))\n",
    "model.fit(adult_train_features, adult_train_labels)"
   ]
  },
  {
   "cell_type": "code",
   "execution_count": 16,
   "metadata": {},
   "outputs": [
    {
     "data": {
      "text/plain": [
       "array([0, 0, 0, ..., 0, 0, 0])"
      ]
     },
     "execution_count": 16,
     "metadata": {},
     "output_type": "execute_result"
    }
   ],
   "source": [
    "predictions = model.predict(adult_test_features)\n",
    "predictions"
   ]
  },
  {
   "cell_type": "code",
   "execution_count": 17,
   "metadata": {},
   "outputs": [
    {
     "data": {
      "text/plain": [
       "0.7720041766476261"
      ]
     },
     "execution_count": 17,
     "metadata": {},
     "output_type": "execute_result"
    }
   ],
   "source": [
    "accuracy_score(adult_test_labels, predictions)"
   ]
  },
  {
   "cell_type": "code",
   "execution_count": 18,
   "metadata": {},
   "outputs": [],
   "source": [
    "california_housing = pd.read_csv('data/cal_housing.tgz', compression='gzip')\n",
    "covertypes = pd.read_csv('data/covtype.data.gz')"
   ]
  },
  {
   "cell_type": "code",
   "execution_count": null,
   "metadata": {},
   "outputs": [],
   "source": [
    "\n",
    "\n",
    "\n",
    "iris = datasets.load_iris()\n",
    "X = iris.data\n",
    "y = iris.target\n",
    "\n",
    "X_train, X_test, y_train, y_test = train_test_split(X, y, test_size=0.2, random_state=42)\n",
    "dtrain = xgb.DMatrix(X_train, label=y_train)\n",
    "dtest = xgb.DMatrix(X_test, label=y_test)\n",
    "\n",
    "\n",
    "datasets.dump_svmlight_file(X_train, y_train, 'dtrain.svm', zero_based=True)\n",
    "datasets.dump_svmlight_file(X_test, y_test, 'dtest.svm', zero_based=True)\n",
    "dtrain_svm = xgb.DMatrix('dtrain.svm')\n",
    "dtest_svm = xgb.DMatrix('dtest.svm')\n",
    "\n",
    "param = {\n",
    "    'max_depth': 3,  # the maximum depth of each tree\n",
    "    'eta': 0.3,  # the training step for each iteration\n",
    "    'silent': 1,  # logging mode - quiet\n",
    "    'objective': 'multi:softprob',  # error evaluation for multiclass training\n",
    "    'num_class': 3}  # the number of classes that exist in this datset\n",
    "num_round = 20  # the number of training iterations\n",
    "\n",
    "bst = xgb.train(param, dtrain, num_round)\n",
    "\n",
    "st.write(bst)\n",
    "bst.dump_model('dump.raw.txt')\n",
    "\n",
    "preds = bst.predict(dtest)\n",
    "st.write(preds)\n",
    "\n",
    "best_preds = np.asarray([np.argmax(line) for line in preds])\n",
    "st.write(best_preds)"
   ]
  }
 ],
 "metadata": {
  "interpreter": {
   "hash": "9b22f3d865ff1ad08335d823a735a6bb7c186403b86aac04963e321aec0c37cf"
  },
  "kernelspec": {
   "display_name": "Python 3.8.12 ('base')",
   "language": "python",
   "name": "python3"
  },
  "language_info": {
   "codemirror_mode": {
    "name": "ipython",
    "version": 3
   },
   "file_extension": ".py",
   "mimetype": "text/x-python",
   "name": "python",
   "nbconvert_exporter": "python",
   "pygments_lexer": "ipython3",
   "version": "3.8.12"
  },
  "orig_nbformat": 4
 },
 "nbformat": 4,
 "nbformat_minor": 2
}
